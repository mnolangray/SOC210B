{
 "cells": [
  {
   "cell_type": "markdown",
   "id": "d9847f07-23af-47b8-8236-6e41f7b339f8",
   "metadata": {},
   "source": [
    "# SOC 210B Assignment 4\n",
    "_By M. Nolan Gray_"
   ]
  },
  {
   "cell_type": "code",
   "execution_count": 11,
   "id": "22454447-76ea-44b1-9999-cad714b3da5c",
   "metadata": {},
   "outputs": [],
   "source": [
    "# Importing libraries, checking out the dataset\n",
    "import numpy as np\n",
    "import pandas as pd\n",
    "import matplotlib.pyplot as plt\n",
    "import statsmodels.api as sm\n",
    "import statsmodels.formula.api as smf"
   ]
  },
  {
   "cell_type": "code",
   "execution_count": 2,
   "id": "d0e8f93c-00e9-4d5a-b7fa-43f5e6f9a72a",
   "metadata": {},
   "outputs": [
    {
     "data": {
      "text/html": [
       "<div>\n",
       "<style scoped>\n",
       "    .dataframe tbody tr th:only-of-type {\n",
       "        vertical-align: middle;\n",
       "    }\n",
       "\n",
       "    .dataframe tbody tr th {\n",
       "        vertical-align: top;\n",
       "    }\n",
       "\n",
       "    .dataframe thead th {\n",
       "        text-align: right;\n",
       "    }\n",
       "</style>\n",
       "<table border=\"1\" class=\"dataframe\">\n",
       "  <thead>\n",
       "    <tr style=\"text-align: right;\">\n",
       "      <th></th>\n",
       "      <th>idcode</th>\n",
       "      <th>age</th>\n",
       "      <th>race</th>\n",
       "      <th>married</th>\n",
       "      <th>never_married</th>\n",
       "      <th>grade</th>\n",
       "      <th>collgrad</th>\n",
       "      <th>south</th>\n",
       "      <th>smsa</th>\n",
       "      <th>c_city</th>\n",
       "      <th>industry</th>\n",
       "      <th>occupation</th>\n",
       "      <th>union</th>\n",
       "      <th>wage</th>\n",
       "      <th>hours</th>\n",
       "      <th>ttl_exp</th>\n",
       "      <th>tenure</th>\n",
       "    </tr>\n",
       "  </thead>\n",
       "  <tbody>\n",
       "    <tr>\n",
       "      <th>0</th>\n",
       "      <td>1</td>\n",
       "      <td>37</td>\n",
       "      <td>black</td>\n",
       "      <td>single</td>\n",
       "      <td>0</td>\n",
       "      <td>12.0</td>\n",
       "      <td>not college grad</td>\n",
       "      <td>0</td>\n",
       "      <td>SMSA</td>\n",
       "      <td>0</td>\n",
       "      <td>Transport/Comm/Utility</td>\n",
       "      <td>Operatives</td>\n",
       "      <td>union</td>\n",
       "      <td>11.739125</td>\n",
       "      <td>48.0</td>\n",
       "      <td>10.333334</td>\n",
       "      <td>5.333333</td>\n",
       "    </tr>\n",
       "    <tr>\n",
       "      <th>1</th>\n",
       "      <td>2</td>\n",
       "      <td>37</td>\n",
       "      <td>black</td>\n",
       "      <td>single</td>\n",
       "      <td>0</td>\n",
       "      <td>12.0</td>\n",
       "      <td>not college grad</td>\n",
       "      <td>0</td>\n",
       "      <td>SMSA</td>\n",
       "      <td>1</td>\n",
       "      <td>Manufacturing</td>\n",
       "      <td>Craftsmen</td>\n",
       "      <td>union</td>\n",
       "      <td>6.400963</td>\n",
       "      <td>40.0</td>\n",
       "      <td>13.621795</td>\n",
       "      <td>5.250000</td>\n",
       "    </tr>\n",
       "    <tr>\n",
       "      <th>2</th>\n",
       "      <td>3</td>\n",
       "      <td>42</td>\n",
       "      <td>black</td>\n",
       "      <td>single</td>\n",
       "      <td>1</td>\n",
       "      <td>12.0</td>\n",
       "      <td>not college grad</td>\n",
       "      <td>0</td>\n",
       "      <td>SMSA</td>\n",
       "      <td>1</td>\n",
       "      <td>Manufacturing</td>\n",
       "      <td>Sales</td>\n",
       "      <td>NaN</td>\n",
       "      <td>5.016723</td>\n",
       "      <td>40.0</td>\n",
       "      <td>17.730770</td>\n",
       "      <td>1.250000</td>\n",
       "    </tr>\n",
       "    <tr>\n",
       "      <th>3</th>\n",
       "      <td>4</td>\n",
       "      <td>43</td>\n",
       "      <td>white</td>\n",
       "      <td>married</td>\n",
       "      <td>0</td>\n",
       "      <td>17.0</td>\n",
       "      <td>college grad</td>\n",
       "      <td>0</td>\n",
       "      <td>SMSA</td>\n",
       "      <td>0</td>\n",
       "      <td>Professional Services</td>\n",
       "      <td>Other</td>\n",
       "      <td>union</td>\n",
       "      <td>9.033813</td>\n",
       "      <td>42.0</td>\n",
       "      <td>13.211537</td>\n",
       "      <td>1.750000</td>\n",
       "    </tr>\n",
       "    <tr>\n",
       "      <th>4</th>\n",
       "      <td>6</td>\n",
       "      <td>42</td>\n",
       "      <td>white</td>\n",
       "      <td>married</td>\n",
       "      <td>0</td>\n",
       "      <td>12.0</td>\n",
       "      <td>not college grad</td>\n",
       "      <td>0</td>\n",
       "      <td>SMSA</td>\n",
       "      <td>0</td>\n",
       "      <td>Manufacturing</td>\n",
       "      <td>Operatives</td>\n",
       "      <td>nonunion</td>\n",
       "      <td>8.083731</td>\n",
       "      <td>48.0</td>\n",
       "      <td>17.820513</td>\n",
       "      <td>17.750000</td>\n",
       "    </tr>\n",
       "  </tbody>\n",
       "</table>\n",
       "</div>"
      ],
      "text/plain": [
       "   idcode  age   race  married  never_married  grade          collgrad  south  \\\n",
       "0       1   37  black   single              0   12.0  not college grad      0   \n",
       "1       2   37  black   single              0   12.0  not college grad      0   \n",
       "2       3   42  black   single              1   12.0  not college grad      0   \n",
       "3       4   43  white  married              0   17.0      college grad      0   \n",
       "4       6   42  white  married              0   12.0  not college grad      0   \n",
       "\n",
       "   smsa  c_city                industry  occupation     union       wage  \\\n",
       "0  SMSA       0  Transport/Comm/Utility  Operatives     union  11.739125   \n",
       "1  SMSA       1           Manufacturing   Craftsmen     union   6.400963   \n",
       "2  SMSA       1           Manufacturing       Sales       NaN   5.016723   \n",
       "3  SMSA       0   Professional Services       Other     union   9.033813   \n",
       "4  SMSA       0           Manufacturing  Operatives  nonunion   8.083731   \n",
       "\n",
       "   hours    ttl_exp     tenure  \n",
       "0   48.0  10.333334   5.333333  \n",
       "1   40.0  13.621795   5.250000  \n",
       "2   40.0  17.730770   1.250000  \n",
       "3   42.0  13.211537   1.750000  \n",
       "4   48.0  17.820513  17.750000  "
      ]
     },
     "execution_count": 2,
     "metadata": {},
     "output_type": "execute_result"
    }
   ],
   "source": [
    "dtafile = './Data/nlsw88.dta'\n",
    "df = pd.read_stata(dtafile)\n",
    "df.head(5)"
   ]
  },
  {
   "cell_type": "code",
   "execution_count": 3,
   "id": "a91daf77-32db-4fe8-8069-b5780ec340f4",
   "metadata": {},
   "outputs": [
    {
     "name": "stdout",
     "output_type": "stream",
     "text": [
      "<class 'pandas.core.frame.DataFrame'>\n",
      "Int64Index: 2246 entries, 0 to 2245\n",
      "Data columns (total 17 columns):\n",
      " #   Column         Non-Null Count  Dtype   \n",
      "---  ------         --------------  -----   \n",
      " 0   idcode         2246 non-null   int16   \n",
      " 1   age            2246 non-null   int8    \n",
      " 2   race           2246 non-null   category\n",
      " 3   married        2246 non-null   category\n",
      " 4   never_married  2246 non-null   int8    \n",
      " 5   grade          2244 non-null   float64 \n",
      " 6   collgrad       2246 non-null   category\n",
      " 7   south          2246 non-null   int8    \n",
      " 8   smsa           2246 non-null   category\n",
      " 9   c_city         2246 non-null   int8    \n",
      " 10  industry       2232 non-null   category\n",
      " 11  occupation     2237 non-null   category\n",
      " 12  union          1878 non-null   category\n",
      " 13  wage           2246 non-null   float32 \n",
      " 14  hours          2242 non-null   float64 \n",
      " 15  ttl_exp        2246 non-null   float32 \n",
      " 16  tenure         2231 non-null   float32 \n",
      "dtypes: category(7), float32(3), float64(2), int16(1), int8(4)\n",
      "memory usage: 109.1 KB\n"
     ]
    }
   ],
   "source": [
    "df.info()"
   ]
  },
  {
   "cell_type": "markdown",
   "id": "0b35187f-099e-4c83-92b3-0134e2b35c6e",
   "metadata": {
    "tags": []
   },
   "source": [
    "## Question 1"
   ]
  },
  {
   "cell_type": "code",
   "execution_count": 4,
   "id": "7efa8fdb-402a-445c-9641-a5642cff6713",
   "metadata": {},
   "outputs": [
    {
     "name": "stdout",
     "output_type": "stream",
     "text": [
      "white    1637\n",
      "black     583\n",
      "other      26\n",
      "Name: race, dtype: int64 \n",
      "\n",
      "married    1442\n",
      "single      804\n",
      "Name: married, dtype: int64 \n",
      "\n",
      "not college grad    1714\n",
      "college grad         532\n",
      "Name: collgrad, dtype: int64 \n",
      "\n",
      "SMSA       1581\n",
      "nonSMSA     665\n",
      "Name: smsa, dtype: int64 \n",
      "\n",
      "Professional Services      824\n",
      "Manufacturing              367\n",
      "Wholesale/Retail Trade     333\n",
      "Finance/Ins/Real Estate    192\n",
      "Public Administration      176\n",
      "Personal Services           97\n",
      "Transport/Comm/Utility      90\n",
      "Business/Repair Svc         86\n",
      "Construction                29\n",
      "Ag/Forestry/Fisheries       17\n",
      "Entertainment/Rec Svc       17\n",
      "Mining                       4\n",
      "Name: industry, dtype: int64 \n",
      "\n",
      "Sales                     726\n",
      "Professional/technical    317\n",
      "Laborers                  286\n",
      "Managers/admin            264\n",
      "Operatives                246\n",
      "Other                     187\n",
      "Clerical/unskilled        102\n",
      "Craftsmen                  53\n",
      "Transport                  28\n",
      "Service                    16\n",
      "Farm laborers               9\n",
      "Household workers           2\n",
      "Farmers                     1\n",
      "Name: occupation, dtype: int64 \n",
      "\n",
      "nonunion    1417\n",
      "union        461\n",
      "Name: union, dtype: int64 \n",
      "\n"
     ]
    }
   ],
   "source": [
    "# Counts for categorical variables\n",
    "for col in df.select_dtypes(['category']):\n",
    "    print(df[col].value_counts(), \"\\n\") "
   ]
  },
  {
   "cell_type": "code",
   "execution_count": 5,
   "id": "50884b81-560b-47d7-b947-4d8e10f24f36",
   "metadata": {},
   "outputs": [
    {
     "name": "stdout",
     "output_type": "stream",
     "text": [
      "grade Mean:  13.098930481283423 Standard deviation:  2.5212460945811084 \n",
      "\n",
      "wage Mean:  7.766931056976318 Standard deviation:  5.755528450012207 \n",
      "\n",
      "hours Mean:  37.218108831400535 Standard deviation:  10.509135117595548 \n",
      "\n",
      "ttl_exp Mean:  12.534981727600098 Standard deviation:  4.610212326049805 \n",
      "\n",
      "tenure Mean:  5.977848529815674 Standard deviation:  5.510325908660889 \n",
      "\n"
     ]
    }
   ],
   "source": [
    "# Continuous variable means and standard deviations\n",
    "for col in df.select_dtypes(['float64','float32']):\n",
    "    print(df[col].name,\"Mean: \",df[col].mean(), \"Standard deviation: \", df[col].std(), \"\\n\") "
   ]
  },
  {
   "cell_type": "code",
   "execution_count": 6,
   "id": "0630d87c-f630-4d45-bc8d-407ec418a8df",
   "metadata": {},
   "outputs": [
    {
     "name": "stdout",
     "output_type": "stream",
     "text": [
      "age Mean:  5.977848529815674 Standard deviation:  5.510325908660889 \n",
      "\n"
     ]
    }
   ],
   "source": [
    "# I probably could have written a fancier loop that included\n",
    "# age w/o all those pesky dummy variables, but I'm a dummy myself\n",
    "print(df['age'].name,\"Mean: \",df[col].mean(), \"Standard deviation: \", df[col].std(), \"\\n\") "
   ]
  },
  {
   "cell_type": "markdown",
   "id": "0bb6975e-b75c-47a1-a75b-db293ec3a2ad",
   "metadata": {},
   "source": [
    "## Question 2"
   ]
  },
  {
   "cell_type": "code",
   "execution_count": 7,
   "id": "8b2acbc3-b7c7-4dc7-b941-2ac87e395b30",
   "metadata": {},
   "outputs": [],
   "source": [
    "# These are the explanatory variables\n",
    "X = df[['wage','collgrad','union','ttl_exp','race']]"
   ]
  },
  {
   "cell_type": "code",
   "execution_count": 8,
   "id": "c620837f-fc7f-47f4-b2bb-58fb869724f4",
   "metadata": {},
   "outputs": [
    {
     "data": {
      "text/plain": [
       "(2246, 6)"
      ]
     },
     "execution_count": 8,
     "metadata": {},
     "output_type": "execute_result"
    }
   ],
   "source": [
    "# Race needs to be turned into a dummy; \n",
    "# you will notice White is the reference category.\n",
    "X = pd.get_dummies(data=X, drop_first=True)\n",
    "X.shape"
   ]
  },
  {
   "cell_type": "code",
   "execution_count": 9,
   "id": "7650d994-1da0-4515-abfd-08525b1264f0",
   "metadata": {},
   "outputs": [
    {
     "data": {
      "text/html": [
       "<div>\n",
       "<style scoped>\n",
       "    .dataframe tbody tr th:only-of-type {\n",
       "        vertical-align: middle;\n",
       "    }\n",
       "\n",
       "    .dataframe tbody tr th {\n",
       "        vertical-align: top;\n",
       "    }\n",
       "\n",
       "    .dataframe thead th {\n",
       "        text-align: right;\n",
       "    }\n",
       "</style>\n",
       "<table border=\"1\" class=\"dataframe\">\n",
       "  <thead>\n",
       "    <tr style=\"text-align: right;\">\n",
       "      <th></th>\n",
       "      <th>wage</th>\n",
       "      <th>ttl_exp</th>\n",
       "      <th>collgrad_college grad</th>\n",
       "      <th>union_union</th>\n",
       "      <th>race_black</th>\n",
       "      <th>race_other</th>\n",
       "    </tr>\n",
       "  </thead>\n",
       "  <tbody>\n",
       "    <tr>\n",
       "      <th>731</th>\n",
       "      <td>3.019324</td>\n",
       "      <td>6.160257</td>\n",
       "      <td>1</td>\n",
       "      <td>0</td>\n",
       "      <td>0</td>\n",
       "      <td>0</td>\n",
       "    </tr>\n",
       "    <tr>\n",
       "      <th>561</th>\n",
       "      <td>3.344482</td>\n",
       "      <td>14.339743</td>\n",
       "      <td>0</td>\n",
       "      <td>0</td>\n",
       "      <td>0</td>\n",
       "      <td>0</td>\n",
       "    </tr>\n",
       "    <tr>\n",
       "      <th>930</th>\n",
       "      <td>5.032206</td>\n",
       "      <td>16.685896</td>\n",
       "      <td>0</td>\n",
       "      <td>0</td>\n",
       "      <td>0</td>\n",
       "      <td>0</td>\n",
       "    </tr>\n",
       "    <tr>\n",
       "      <th>1636</th>\n",
       "      <td>7.938803</td>\n",
       "      <td>14.391026</td>\n",
       "      <td>0</td>\n",
       "      <td>0</td>\n",
       "      <td>1</td>\n",
       "      <td>0</td>\n",
       "    </tr>\n",
       "    <tr>\n",
       "      <th>1757</th>\n",
       "      <td>7.745568</td>\n",
       "      <td>7.961538</td>\n",
       "      <td>1</td>\n",
       "      <td>1</td>\n",
       "      <td>0</td>\n",
       "      <td>0</td>\n",
       "    </tr>\n",
       "  </tbody>\n",
       "</table>\n",
       "</div>"
      ],
      "text/plain": [
       "          wage    ttl_exp  collgrad_college grad  union_union  race_black  \\\n",
       "731   3.019324   6.160257                      1            0           0   \n",
       "561   3.344482  14.339743                      0            0           0   \n",
       "930   5.032206  16.685896                      0            0           0   \n",
       "1636  7.938803  14.391026                      0            0           1   \n",
       "1757  7.745568   7.961538                      1            1           0   \n",
       "\n",
       "      race_other  \n",
       "731            0  \n",
       "561            0  \n",
       "930            0  \n",
       "1636           0  \n",
       "1757           0  "
      ]
     },
     "execution_count": 9,
     "metadata": {},
     "output_type": "execute_result"
    }
   ],
   "source": [
    "X.sample(5)"
   ]
  },
  {
   "cell_type": "code",
   "execution_count": 14,
   "id": "e3ce4d85-94ee-47df-81b7-5543a033ea50",
   "metadata": {},
   "outputs": [],
   "source": [
    "X = X.rename(columns = {'wage':'wage','ttl_exp':'ttl_exp', 'collgrad_college grad':'coll_dummy', 'union_union':'union_dummy','race_black':'black','race_other':'other'})"
   ]
  },
  {
   "cell_type": "code",
   "execution_count": 15,
   "id": "b99dac8e-ecaf-4621-b38c-0b98206e9af8",
   "metadata": {},
   "outputs": [
    {
     "data": {
      "text/html": [
       "<table class=\"simpletable\">\n",
       "<tr>\n",
       "       <td></td>          <th>coef</th>     <th>std err</th>      <th>t</th>      <th>P>|t|</th>  <th>[0.025</th>    <th>0.975]</th>  \n",
       "</tr>\n",
       "<tr>\n",
       "  <th>Intercept</th>   <td>    3.4530</td> <td>    0.336</td> <td>   10.281</td> <td> 0.000</td> <td>    2.794</td> <td>    4.112</td>\n",
       "</tr>\n",
       "<tr>\n",
       "  <th>ttl_exp</th>     <td>    0.2980</td> <td>    0.025</td> <td>   12.051</td> <td> 0.000</td> <td>    0.250</td> <td>    0.347</td>\n",
       "</tr>\n",
       "<tr>\n",
       "  <th>coll_dummy</th>  <td>    3.1028</td> <td>    0.270</td> <td>   11.500</td> <td> 0.000</td> <td>    2.574</td> <td>    3.632</td>\n",
       "</tr>\n",
       "<tr>\n",
       "  <th>union_dummy</th> <td>    0.6381</td> <td>    0.283</td> <td>    2.254</td> <td> 0.024</td> <td>    0.083</td> <td>    1.193</td>\n",
       "</tr>\n",
       "<tr>\n",
       "  <th>black</th>       <td>   -1.1126</td> <td>    0.260</td> <td>   -4.275</td> <td> 0.000</td> <td>   -1.623</td> <td>   -0.602</td>\n",
       "</tr>\n",
       "<tr>\n",
       "  <th>other</th>       <td>    0.0724</td> <td>    1.059</td> <td>    0.068</td> <td> 0.945</td> <td>   -2.005</td> <td>    2.150</td>\n",
       "</tr>\n",
       "</table>"
      ],
      "text/plain": [
       "<class 'statsmodels.iolib.table.SimpleTable'>"
      ]
     },
     "execution_count": 15,
     "metadata": {},
     "output_type": "execute_result"
    }
   ],
   "source": [
    "model_interaction = smf.ols(formula='wage ~ ttl_exp + coll_dummy + union_dummy + black + other', data=X).fit()\n",
    "summary = model_interaction.summary()\n",
    "summary.tables[1]"
   ]
  },
  {
   "cell_type": "markdown",
   "id": "115b2890-9788-44e5-a625-4e6dfe71bcb9",
   "metadata": {},
   "source": [
    "So the regression formula is *y = 3.45 + 0.30(x0) + 3.10(x1) + 0.64(x2) - 1.11(x3) + 0.07(x4), where:\n",
    "* x0 = ttl_exp\n",
    "* x1 = collgrad\n",
    "* x2 = union\n",
    "* x3 = race_black\n",
    "* x4 = race_other (Not significant!)\n",
    "\n",
    "So the formula for a black woman who is a unionized college graduate with 10 years of experience would have a predicted wage of:\n",
    "* 3.45 + 0.30(10) + 3.10(1) + 0.64(1) - 1.11(1) + 0.07(0) = *$9.08*\n",
    "\n",
    "Her older sister with 20 years of experience would have a predicted wage of:\n",
    "* 3.45 + 0.30(20) + 3.10(1) + 0.64(1) - 1.11(1) + 0.07(0) = *$12.08*"
   ]
  },
  {
   "cell_type": "markdown",
   "id": "17a37caf-83eb-49d5-943e-92836c072b97",
   "metadata": {},
   "source": [
    "## Question 3"
   ]
  },
  {
   "cell_type": "code",
   "execution_count": null,
   "id": "b71f8d4d-95d8-4aa7-aa65-a3b40630e1da",
   "metadata": {},
   "outputs": [],
   "source": [
    "# First, let's test to make sure the output is consistent\n",
    "model_interaction = smf.ols(formula='wage ~ X', data=df).fit()\n",
    "summary = model_interaction.summary()\n",
    "summary.tables[1]"
   ]
  },
  {
   "cell_type": "code",
   "execution_count": null,
   "id": "910f6f1e-a287-4969-b2fb-ccf3ae3d1bd5",
   "metadata": {},
   "outputs": [],
   "source": [
    "# It is. Let's do some cleaning.\n",
    "X.head(5)"
   ]
  },
  {
   "cell_type": "code",
   "execution_count": null,
   "id": "cea8779d-d4a0-497a-a94d-7dba485a0946",
   "metadata": {},
   "outputs": [],
   "source": [
    "model_interaction = smf.ols(formula='wage ~ ttl_exp + coll_dummy + union_dummy + black + other', data=X).fit()\n",
    "summary = model_interaction.summary()\n",
    "summary.tables[1]"
   ]
  },
  {
   "cell_type": "code",
   "execution_count": null,
   "id": "0c6ddcd4-c0c1-4f21-b8a3-a896a021e9d6",
   "metadata": {},
   "outputs": [],
   "source": [
    "X.head(5)"
   ]
  },
  {
   "cell_type": "code",
   "execution_count": null,
   "id": "c21e430d-75ae-41d5-8b8e-0e8b229445c1",
   "metadata": {},
   "outputs": [],
   "source": [
    "X[\"idcode\"] = X.index + 1\n",
    "X['idcode'] = X['idcode'].astype(np.int16)"
   ]
  },
  {
   "cell_type": "code",
   "execution_count": null,
   "id": "7d12943b-8424-4751-be5c-21465e80241f",
   "metadata": {},
   "outputs": [],
   "source": [
    "df.info()"
   ]
  },
  {
   "cell_type": "code",
   "execution_count": null,
   "id": "34fbedf5-db08-476c-ae6c-9e722501afd3",
   "metadata": {},
   "outputs": [],
   "source": [
    "X.info()"
   ]
  },
  {
   "cell_type": "code",
   "execution_count": null,
   "id": "e26cdbb4-0fa2-4732-bac5-8824c0aac51c",
   "metadata": {},
   "outputs": [],
   "source": [
    "merged = pd.merge(df, X, on=\"idcode\",how='right')\n",
    "merged.shape"
   ]
  },
  {
   "cell_type": "code",
   "execution_count": null,
   "id": "a33fe560-922b-4c1b-942f-32529a60e5d8",
   "metadata": {},
   "outputs": [],
   "source": [
    "merged.sample(10)"
   ]
  },
  {
   "cell_type": "code",
   "execution_count": null,
   "id": "b5e87b12-0d41-4a4a-88f9-500cfff11739",
   "metadata": {},
   "outputs": [],
   "source": [
    "print(df.iloc[1429])"
   ]
  },
  {
   "cell_type": "code",
   "execution_count": null,
   "id": "ef204361-c924-455b-9c58-19d68ec190d9",
   "metadata": {},
   "outputs": [],
   "source": []
  }
 ],
 "metadata": {
  "kernelspec": {
   "display_name": "Python 3 (ipykernel)",
   "language": "python",
   "name": "python3"
  },
  "language_info": {
   "codemirror_mode": {
    "name": "ipython",
    "version": 3
   },
   "file_extension": ".py",
   "mimetype": "text/x-python",
   "name": "python",
   "nbconvert_exporter": "python",
   "pygments_lexer": "ipython3",
   "version": "3.9.6"
  }
 },
 "nbformat": 4,
 "nbformat_minor": 5
}
