{
 "cells": [
  {
   "cell_type": "markdown",
   "id": "658a56dc-ce47-4f67-b098-ea6f49596ce5",
   "metadata": {},
   "source": [
    "# SOC 210B Assignment 5\n",
    "_By M. Nolan Gray_"
   ]
  },
  {
   "cell_type": "code",
   "execution_count": 1,
   "id": "88ae3e22-7779-4f8b-bba2-506c7982edb3",
   "metadata": {},
   "outputs": [],
   "source": [
    "# Importing libraries, checking out the dataset\n",
    "import numpy as np\n",
    "import pandas as pd\n",
    "import matplotlib.pyplot as plt\n",
    "import statsmodels.api as sm\n",
    "import statsmodels.formula.api as smf\n",
    "import seaborn as sns"
   ]
  },
  {
   "cell_type": "code",
   "execution_count": 2,
   "id": "373a69db-f704-4c13-aa2e-106a1fedaed2",
   "metadata": {},
   "outputs": [
    {
     "data": {
      "text/html": [
       "<div>\n",
       "<style scoped>\n",
       "    .dataframe tbody tr th:only-of-type {\n",
       "        vertical-align: middle;\n",
       "    }\n",
       "\n",
       "    .dataframe tbody tr th {\n",
       "        vertical-align: top;\n",
       "    }\n",
       "\n",
       "    .dataframe thead th {\n",
       "        text-align: right;\n",
       "    }\n",
       "</style>\n",
       "<table border=\"1\" class=\"dataframe\">\n",
       "  <thead>\n",
       "    <tr style=\"text-align: right;\">\n",
       "      <th></th>\n",
       "      <th>idcode</th>\n",
       "      <th>age</th>\n",
       "      <th>race</th>\n",
       "      <th>married</th>\n",
       "      <th>never_married</th>\n",
       "      <th>grade</th>\n",
       "      <th>collgrad</th>\n",
       "      <th>south</th>\n",
       "      <th>smsa</th>\n",
       "      <th>c_city</th>\n",
       "      <th>industry</th>\n",
       "      <th>occupation</th>\n",
       "      <th>union</th>\n",
       "      <th>wage</th>\n",
       "      <th>hours</th>\n",
       "      <th>ttl_exp</th>\n",
       "      <th>tenure</th>\n",
       "    </tr>\n",
       "  </thead>\n",
       "  <tbody>\n",
       "    <tr>\n",
       "      <th>1132</th>\n",
       "      <td>2640</td>\n",
       "      <td>41</td>\n",
       "      <td>black</td>\n",
       "      <td>single</td>\n",
       "      <td>0</td>\n",
       "      <td>13.0</td>\n",
       "      <td>college grad</td>\n",
       "      <td>1</td>\n",
       "      <td>SMSA</td>\n",
       "      <td>0</td>\n",
       "      <td>Professional Services</td>\n",
       "      <td>Managers/admin</td>\n",
       "      <td>nonunion</td>\n",
       "      <td>9.355874</td>\n",
       "      <td>48.0</td>\n",
       "      <td>15.153847</td>\n",
       "      <td>6.000000</td>\n",
       "    </tr>\n",
       "    <tr>\n",
       "      <th>698</th>\n",
       "      <td>1703</td>\n",
       "      <td>45</td>\n",
       "      <td>white</td>\n",
       "      <td>single</td>\n",
       "      <td>0</td>\n",
       "      <td>13.0</td>\n",
       "      <td>not college grad</td>\n",
       "      <td>0</td>\n",
       "      <td>SMSA</td>\n",
       "      <td>1</td>\n",
       "      <td>Finance/Ins/Real Estate</td>\n",
       "      <td>Sales</td>\n",
       "      <td>nonunion</td>\n",
       "      <td>4.879225</td>\n",
       "      <td>40.0</td>\n",
       "      <td>12.961538</td>\n",
       "      <td>1.750000</td>\n",
       "    </tr>\n",
       "    <tr>\n",
       "      <th>1537</th>\n",
       "      <td>3534</td>\n",
       "      <td>37</td>\n",
       "      <td>white</td>\n",
       "      <td>married</td>\n",
       "      <td>0</td>\n",
       "      <td>16.0</td>\n",
       "      <td>college grad</td>\n",
       "      <td>0</td>\n",
       "      <td>nonSMSA</td>\n",
       "      <td>0</td>\n",
       "      <td>Public Administration</td>\n",
       "      <td>Professional/technical</td>\n",
       "      <td>nonunion</td>\n",
       "      <td>8.679548</td>\n",
       "      <td>12.0</td>\n",
       "      <td>12.057693</td>\n",
       "      <td>2.916667</td>\n",
       "    </tr>\n",
       "    <tr>\n",
       "      <th>2052</th>\n",
       "      <td>4724</td>\n",
       "      <td>40</td>\n",
       "      <td>white</td>\n",
       "      <td>married</td>\n",
       "      <td>0</td>\n",
       "      <td>12.0</td>\n",
       "      <td>not college grad</td>\n",
       "      <td>1</td>\n",
       "      <td>nonSMSA</td>\n",
       "      <td>0</td>\n",
       "      <td>Public Administration</td>\n",
       "      <td>Sales</td>\n",
       "      <td>nonunion</td>\n",
       "      <td>4.412238</td>\n",
       "      <td>40.0</td>\n",
       "      <td>11.000000</td>\n",
       "      <td>1.916667</td>\n",
       "    </tr>\n",
       "    <tr>\n",
       "      <th>1830</th>\n",
       "      <td>4237</td>\n",
       "      <td>38</td>\n",
       "      <td>white</td>\n",
       "      <td>married</td>\n",
       "      <td>0</td>\n",
       "      <td>9.0</td>\n",
       "      <td>not college grad</td>\n",
       "      <td>0</td>\n",
       "      <td>SMSA</td>\n",
       "      <td>0</td>\n",
       "      <td>Wholesale/Retail Trade</td>\n",
       "      <td>Sales</td>\n",
       "      <td>NaN</td>\n",
       "      <td>3.919314</td>\n",
       "      <td>32.0</td>\n",
       "      <td>10.294871</td>\n",
       "      <td>1.166667</td>\n",
       "    </tr>\n",
       "  </tbody>\n",
       "</table>\n",
       "</div>"
      ],
      "text/plain": [
       "      idcode  age   race  married  never_married  grade          collgrad  \\\n",
       "1132    2640   41  black   single              0   13.0      college grad   \n",
       "698     1703   45  white   single              0   13.0  not college grad   \n",
       "1537    3534   37  white  married              0   16.0      college grad   \n",
       "2052    4724   40  white  married              0   12.0  not college grad   \n",
       "1830    4237   38  white  married              0    9.0  not college grad   \n",
       "\n",
       "      south     smsa  c_city                 industry              occupation  \\\n",
       "1132      1     SMSA       0    Professional Services          Managers/admin   \n",
       "698       0     SMSA       1  Finance/Ins/Real Estate                   Sales   \n",
       "1537      0  nonSMSA       0    Public Administration  Professional/technical   \n",
       "2052      1  nonSMSA       0    Public Administration                   Sales   \n",
       "1830      0     SMSA       0   Wholesale/Retail Trade                   Sales   \n",
       "\n",
       "         union      wage  hours    ttl_exp    tenure  \n",
       "1132  nonunion  9.355874   48.0  15.153847  6.000000  \n",
       "698   nonunion  4.879225   40.0  12.961538  1.750000  \n",
       "1537  nonunion  8.679548   12.0  12.057693  2.916667  \n",
       "2052  nonunion  4.412238   40.0  11.000000  1.916667  \n",
       "1830       NaN  3.919314   32.0  10.294871  1.166667  "
      ]
     },
     "execution_count": 2,
     "metadata": {},
     "output_type": "execute_result"
    }
   ],
   "source": [
    "dtafile = './Data/nlsw88.dta'\n",
    "df = pd.read_stata(dtafile)\n",
    "df.sample(5)"
   ]
  },
  {
   "cell_type": "markdown",
   "id": "82e3e589-39d1-4529-9926-cc13943439c8",
   "metadata": {},
   "source": [
    "## Question 1"
   ]
  },
  {
   "cell_type": "code",
   "execution_count": 3,
   "id": "e9094c6c-06ec-460c-9b92-19e698568678",
   "metadata": {},
   "outputs": [
    {
     "data": {
      "text/plain": [
       "<seaborn.axisgrid.FacetGrid at 0x7f666811ed90>"
      ]
     },
     "execution_count": 3,
     "metadata": {},
     "output_type": "execute_result"
    },
    {
     "data": {
      "image/png": "[encoded data removed]",
      "text/plain": [
       "<Figure size 360x360 with 1 Axes>"
      ]
     },
     "metadata": {
      "needs_background": "light"
     },
     "output_type": "display_data"
    }
   ],
   "source": [
    "sns.displot(df, x=\"wage\")"
   ]
  },
  {
   "cell_type": "markdown",
   "id": "49777530-577c-413f-bf1b-3ccf9ff91eba",
   "metadata": {},
   "source": [
    "As I understand, this distribution calls for a Poisson regression.\n",
    "\n",
    "## Question 2"
   ]
  },
  {
   "cell_type": "code",
   "execution_count": 4,
   "id": "30aa588b-d88d-4be8-9bde-ff02522349e8",
   "metadata": {},
   "outputs": [],
   "source": [
    "from statsmodels.formula.api import glm\n",
    "from statsmodels.genmod.families import Poisson\n",
    "import patsy"
   ]
  },
  {
   "cell_type": "code",
   "execution_count": 5,
   "id": "1bfab8d0-bacd-4192-bc3b-1aa597e28045",
   "metadata": {},
   "outputs": [
    {
     "name": "stdout",
     "output_type": "stream",
     "text": [
      "                 Generalized Linear Model Regression Results                  \n",
      "==============================================================================\n",
      "Dep. Variable:                   wage   No. Observations:                 2246\n",
      "Model:                            GLM   Df Residuals:                     2239\n",
      "Model Family:                 Poisson   Df Model:                            6\n",
      "Link Function:                    log   Scale:                          1.0000\n",
      "Method:                          IRLS   Log-Likelihood:                -7174.3\n",
      "Date:                Fri, 18 Feb 2022   Deviance:                       5956.6\n",
      "Time:                        07:07:23   Pearson chi2:                 8.45e+03\n",
      "No. Iterations:                     5                                         \n",
      "Covariance Type:            nonrobust                                         \n",
      "============================================================================================\n",
      "                               coef    std err          z      P>|z|      [0.025      0.975]\n",
      "--------------------------------------------------------------------------------------------\n",
      "Intercept                    1.8371      0.018    102.156      0.000       1.802       1.872\n",
      "collgrad[T.college grad]     0.3832      0.016     23.250      0.000       0.351       0.416\n",
      "C(race)[T.black]            -0.1142      0.019     -6.011      0.000      -0.151      -0.077\n",
      "C(race)[T.other]            -0.0262      0.068     -0.387      0.699      -0.159       0.107\n",
      "C(smsa)[T.SMSA]              0.2507      0.018     13.784      0.000       0.215       0.286\n",
      "south                       -0.1375      0.016     -8.377      0.000      -0.170      -0.105\n",
      "never_married                0.0437      0.024      1.804      0.071      -0.004       0.091\n",
      "============================================================================================\n"
     ]
    }
   ],
   "source": [
    "fam = Poisson()\n",
    "f = 'wage ~ collgrad + south + C(race) + never_married + C(smsa)'\n",
    "y, X = patsy.dmatrices(f, df, return_type='matrix')\n",
    "p_model = sm.GLM(y, X, family=fam)\n",
    "result = p_model.fit()\n",
    "print(result.summary())"
   ]
  },
  {
   "cell_type": "code",
   "execution_count": 6,
   "id": "1f566282-22ef-4e0d-a2d0-e9a5b3ec83e1",
   "metadata": {},
   "outputs": [],
   "source": [
    "# 8,450 Pearson chi1 at 6 df -> P-value = <0.001; not sure why the output isn't automatically including that."
   ]
  },
  {
   "cell_type": "markdown",
   "id": "f8c53565-9b47-499b-a536-566165e7b69b",
   "metadata": {},
   "source": [
    "## Question 3"
   ]
  },
  {
   "cell_type": "code",
   "execution_count": 7,
   "id": "97f45586-b357-46d4-aaeb-f2efbcaa8253",
   "metadata": {},
   "outputs": [
    {
     "name": "stdout",
     "output_type": "stream",
     "text": [
      "                 Generalized Linear Model Regression Results                  \n",
      "==============================================================================\n",
      "Dep. Variable:                   wage   No. Observations:                 2246\n",
      "Model:                            GLM   Df Residuals:                     2241\n",
      "Model Family:                 Poisson   Df Model:                            4\n",
      "Link Function:                    log   Scale:                          1.0000\n",
      "Method:                          IRLS   Log-Likelihood:                -7192.7\n",
      "Date:                Fri, 18 Feb 2022   Deviance:                       5993.4\n",
      "Time:                        07:07:23   Pearson chi2:                 8.56e+03\n",
      "No. Iterations:                     5                                         \n",
      "Covariance Type:            nonrobust                                         \n",
      "============================================================================================\n",
      "                               coef    std err          z      P>|z|      [0.025      0.975]\n",
      "--------------------------------------------------------------------------------------------\n",
      "Intercept                    1.8272      0.018    102.054      0.000       1.792       1.862\n",
      "collgrad[T.college grad]     0.3947      0.016     24.120      0.000       0.363       0.427\n",
      "C(smsa)[T.SMSA]              0.2389      0.018     13.200      0.000       0.203       0.274\n",
      "south                       -0.1636      0.016    -10.338      0.000      -0.195      -0.133\n",
      "never_married                0.0216      0.024      0.903      0.367      -0.025       0.069\n",
      "============================================================================================\n"
     ]
    }
   ],
   "source": [
    "# I think there are machine learning that would solve this for me \n",
    "# but I couldn't get them to work! Manual backwards elemination...\n",
    "f1 = 'wage ~ collgrad + south + never_married + C(smsa)'\n",
    "y1, X1 = patsy.dmatrices(f1, df, return_type='matrix')\n",
    "p_model1 = sm.GLM(y1, X1, family=fam)\n",
    "result1 = p_model1.fit()\n",
    "print(result1.summary())"
   ]
  },
  {
   "cell_type": "code",
   "execution_count": 8,
   "id": "5b4b2bb3-dac1-4829-9197-ae5540e86295",
   "metadata": {},
   "outputs": [
    {
     "name": "stdout",
     "output_type": "stream",
     "text": [
      "                 Generalized Linear Model Regression Results                  \n",
      "==============================================================================\n",
      "Dep. Variable:                   wage   No. Observations:                 2246\n",
      "Model:                            GLM   Df Residuals:                     2242\n",
      "Model Family:                 Poisson   Df Model:                            3\n",
      "Link Function:                    log   Scale:                          1.0000\n",
      "Method:                          IRLS   Log-Likelihood:                -7193.1\n",
      "Date:                Fri, 18 Feb 2022   Deviance:                       5994.2\n",
      "Time:                        07:07:23   Pearson chi2:                 8.56e+03\n",
      "No. Iterations:                     5                                         \n",
      "Covariance Type:            nonrobust                                         \n",
      "============================================================================================\n",
      "                               coef    std err          z      P>|z|      [0.025      0.975]\n",
      "--------------------------------------------------------------------------------------------\n",
      "Intercept                    1.8287      0.018    102.602      0.000       1.794       1.864\n",
      "collgrad[T.college grad]     0.3960      0.016     24.298      0.000       0.364       0.428\n",
      "C(smsa)[T.SMSA]              0.2397      0.018     13.262      0.000       0.204       0.275\n",
      "south                       -0.1639      0.016    -10.359      0.000      -0.195      -0.133\n",
      "============================================================================================\n"
     ]
    }
   ],
   "source": [
    "# Still significant\n",
    "f2 = 'wage ~ collgrad + south + C(smsa)'\n",
    "y2, X2 = patsy.dmatrices(f2, df, return_type='matrix')\n",
    "p_model2 = sm.GLM(y2, X2, family=fam)\n",
    "result2 = p_model2.fit()\n",
    "print(result2.summary())"
   ]
  },
  {
   "cell_type": "markdown",
   "id": "f6e7e510-2284-4488-af87-65ff0aea3c89",
   "metadata": {},
   "source": [
    "At this point, all variables are significant. Removing any further variables wouldn't improve the model."
   ]
  }
 ],
 "metadata": {
  "kernelspec": {
   "display_name": "Python 3 (ipykernel)",
   "language": "python",
   "name": "python3"
  },
  "language_info": {
   "codemirror_mode": {
    "name": "ipython",
    "version": 3
   },
   "file_extension": ".py",
   "mimetype": "text/x-python",
   "name": "python",
   "nbconvert_exporter": "python",
   "pygments_lexer": "ipython3",
   "version": "3.9.6"
  }
 },
 "nbformat": 4,
 "nbformat_minor": 5
}
