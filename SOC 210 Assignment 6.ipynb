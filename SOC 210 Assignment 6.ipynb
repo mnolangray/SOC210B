{
 "cells": [
  {
   "cell_type": "markdown",
   "id": "8eefedc5-54a2-466d-9198-19f6be2cd1b3",
   "metadata": {},
   "source": [
    "# SOC 210B Assignment 6\n",
    "_By M. Nolan Gray_"
   ]
  },
  {
   "cell_type": "code",
   "execution_count": 1,
   "id": "fa4f5a93-42ea-44ae-96f9-d24d1440c1ee",
   "metadata": {},
   "outputs": [],
   "source": [
    "import pandas as pd\n",
    "import scipy.stats as stats"
   ]
  },
  {
   "cell_type": "code",
   "execution_count": 2,
   "id": "7dc4cfa4-ff26-44e0-8aa4-21a3c166a3e4",
   "metadata": {},
   "outputs": [
    {
     "data": {
      "text/html": [
       "<div>\n",
       "<style scoped>\n",
       "    .dataframe tbody tr th:only-of-type {\n",
       "        vertical-align: middle;\n",
       "    }\n",
       "\n",
       "    .dataframe tbody tr th {\n",
       "        vertical-align: top;\n",
       "    }\n",
       "\n",
       "    .dataframe thead th {\n",
       "        text-align: right;\n",
       "    }\n",
       "</style>\n",
       "<table border=\"1\" class=\"dataframe\">\n",
       "  <thead>\n",
       "    <tr style=\"text-align: right;\">\n",
       "      <th></th>\n",
       "      <th>idcode</th>\n",
       "      <th>age</th>\n",
       "      <th>race</th>\n",
       "      <th>married</th>\n",
       "      <th>never_married</th>\n",
       "      <th>grade</th>\n",
       "      <th>collgrad</th>\n",
       "      <th>south</th>\n",
       "      <th>smsa</th>\n",
       "      <th>c_city</th>\n",
       "      <th>industry</th>\n",
       "      <th>occupation</th>\n",
       "      <th>union</th>\n",
       "      <th>wage</th>\n",
       "      <th>hours</th>\n",
       "      <th>ttl_exp</th>\n",
       "      <th>tenure</th>\n",
       "    </tr>\n",
       "  </thead>\n",
       "  <tbody>\n",
       "    <tr>\n",
       "      <th>1848</th>\n",
       "      <td>4268</td>\n",
       "      <td>37</td>\n",
       "      <td>white</td>\n",
       "      <td>single</td>\n",
       "      <td>1</td>\n",
       "      <td>12.0</td>\n",
       "      <td>not college grad</td>\n",
       "      <td>1</td>\n",
       "      <td>SMSA</td>\n",
       "      <td>0</td>\n",
       "      <td>NaN</td>\n",
       "      <td>NaN</td>\n",
       "      <td>nonunion</td>\n",
       "      <td>4.138486</td>\n",
       "      <td>35.0</td>\n",
       "      <td>0.115385</td>\n",
       "      <td>0.083333</td>\n",
       "    </tr>\n",
       "    <tr>\n",
       "      <th>1594</th>\n",
       "      <td>3688</td>\n",
       "      <td>43</td>\n",
       "      <td>white</td>\n",
       "      <td>married</td>\n",
       "      <td>0</td>\n",
       "      <td>14.0</td>\n",
       "      <td>not college grad</td>\n",
       "      <td>0</td>\n",
       "      <td>SMSA</td>\n",
       "      <td>0</td>\n",
       "      <td>Transport/Comm/Utility</td>\n",
       "      <td>Sales</td>\n",
       "      <td>nonunion</td>\n",
       "      <td>17.665049</td>\n",
       "      <td>40.0</td>\n",
       "      <td>18.211538</td>\n",
       "      <td>0.916667</td>\n",
       "    </tr>\n",
       "    <tr>\n",
       "      <th>205</th>\n",
       "      <td>477</td>\n",
       "      <td>42</td>\n",
       "      <td>white</td>\n",
       "      <td>married</td>\n",
       "      <td>0</td>\n",
       "      <td>12.0</td>\n",
       "      <td>not college grad</td>\n",
       "      <td>0</td>\n",
       "      <td>nonSMSA</td>\n",
       "      <td>0</td>\n",
       "      <td>Wholesale/Retail Trade</td>\n",
       "      <td>Sales</td>\n",
       "      <td>nonunion</td>\n",
       "      <td>3.099838</td>\n",
       "      <td>30.0</td>\n",
       "      <td>10.352564</td>\n",
       "      <td>2.250000</td>\n",
       "    </tr>\n",
       "    <tr>\n",
       "      <th>959</th>\n",
       "      <td>2232</td>\n",
       "      <td>42</td>\n",
       "      <td>white</td>\n",
       "      <td>single</td>\n",
       "      <td>1</td>\n",
       "      <td>14.0</td>\n",
       "      <td>not college grad</td>\n",
       "      <td>0</td>\n",
       "      <td>SMSA</td>\n",
       "      <td>1</td>\n",
       "      <td>Professional Services</td>\n",
       "      <td>Professional/technical</td>\n",
       "      <td>nonunion</td>\n",
       "      <td>7.914649</td>\n",
       "      <td>40.0</td>\n",
       "      <td>20.333334</td>\n",
       "      <td>20.333334</td>\n",
       "    </tr>\n",
       "    <tr>\n",
       "      <th>1557</th>\n",
       "      <td>3590</td>\n",
       "      <td>44</td>\n",
       "      <td>white</td>\n",
       "      <td>single</td>\n",
       "      <td>0</td>\n",
       "      <td>13.0</td>\n",
       "      <td>not college grad</td>\n",
       "      <td>1</td>\n",
       "      <td>SMSA</td>\n",
       "      <td>1</td>\n",
       "      <td>Manufacturing</td>\n",
       "      <td>Sales</td>\n",
       "      <td>nonunion</td>\n",
       "      <td>6.038648</td>\n",
       "      <td>40.0</td>\n",
       "      <td>11.923077</td>\n",
       "      <td>3.333333</td>\n",
       "    </tr>\n",
       "  </tbody>\n",
       "</table>\n",
       "</div>"
      ],
      "text/plain": [
       "      idcode  age   race  married  never_married  grade          collgrad  \\\n",
       "1848    4268   37  white   single              1   12.0  not college grad   \n",
       "1594    3688   43  white  married              0   14.0  not college grad   \n",
       "205      477   42  white  married              0   12.0  not college grad   \n",
       "959     2232   42  white   single              1   14.0  not college grad   \n",
       "1557    3590   44  white   single              0   13.0  not college grad   \n",
       "\n",
       "      south     smsa  c_city                industry              occupation  \\\n",
       "1848      1     SMSA       0                     NaN                     NaN   \n",
       "1594      0     SMSA       0  Transport/Comm/Utility                   Sales   \n",
       "205       0  nonSMSA       0  Wholesale/Retail Trade                   Sales   \n",
       "959       0     SMSA       1   Professional Services  Professional/technical   \n",
       "1557      1     SMSA       1           Manufacturing                   Sales   \n",
       "\n",
       "         union       wage  hours    ttl_exp     tenure  \n",
       "1848  nonunion   4.138486   35.0   0.115385   0.083333  \n",
       "1594  nonunion  17.665049   40.0  18.211538   0.916667  \n",
       "205   nonunion   3.099838   30.0  10.352564   2.250000  \n",
       "959   nonunion   7.914649   40.0  20.333334  20.333334  \n",
       "1557  nonunion   6.038648   40.0  11.923077   3.333333  "
      ]
     },
     "execution_count": 2,
     "metadata": {},
     "output_type": "execute_result"
    }
   ],
   "source": [
    "dtafile = './Data/nlsw88.dta'\n",
    "df = pd.read_stata(dtafile)\n",
    "df.sample(5)"
   ]
  },
  {
   "cell_type": "code",
   "execution_count": 4,
   "id": "fc83fe04-4092-4c0b-84e2-d675e462f58d",
   "metadata": {},
   "outputs": [],
   "source": [
    "df1 = pd.DataFrame(df, columns = ['collgrad', 'married']) "
   ]
  },
  {
   "cell_type": "code",
   "execution_count": 5,
   "id": "7ee99b1d-5cb8-4cde-9862-acc52c4e3468",
   "metadata": {},
   "outputs": [
    {
     "name": "stdout",
     "output_type": "stream",
     "text": [
      "married           single  married  Total\n",
      "collgrad                                \n",
      "not college grad     616     1098   1714\n",
      "college grad         188      344    532\n",
      "Total                804     1442   2246\n"
     ]
    }
   ],
   "source": [
    "data_crosstab = pd.crosstab(df1['collgrad'],\n",
    "                            df1['married'],\n",
    "                           margins=True, margins_name=\"Total\")\n",
    "print(data_crosstab)"
   ]
  },
  {
   "cell_type": "code",
   "execution_count": 6,
   "id": "781b4faa-1f44-4049-b140-f924f68073e6",
   "metadata": {},
   "outputs": [],
   "source": [
    "alpha = 0.05\n",
    "chi_square = 0\n",
    "rows = df['collgrad'].unique()\n",
    "columns = df['married'].unique()\n",
    "for i in columns:\n",
    "    for j in rows:\n",
    "        O = data_crosstab[i][j]\n",
    "        E = data_crosstab[i]['Total'] * data_crosstab['Total'][j] / data_crosstab['Total']['Total']\n",
    "        chi_square += (O-E)**2/E"
   ]
  },
  {
   "cell_type": "code",
   "execution_count": 7,
   "id": "28b498c4-a105-44b2-871f-eaa572627672",
   "metadata": {},
   "outputs": [
    {
     "name": "stdout",
     "output_type": "stream",
     "text": [
      "Approach 1: The p-value approach to hypothesis testing in the decision rule\n"
     ]
    }
   ],
   "source": [
    "print(\"Approach 1: The p-value approach to hypothesis testing in the decision rule\")\n",
    "p_value = 1 - stats.norm.cdf(chi_square, (len(rows)-1)*(len(columns)-1))\n",
    "conclusion = \"Failed to reject the null hypothesis.\"\n",
    "if p_value <= alpha:\n",
    "    conclusion = \"Null Hypothesis is rejected.\""
   ]
  },
  {
   "cell_type": "code",
   "execution_count": 8,
   "id": "4459cf23-29cb-4041-9581-3229c7c0fe59",
   "metadata": {},
   "outputs": [
    {
     "name": "stdout",
     "output_type": "stream",
     "text": [
      "chisquare-score is: 0.06380094477594009  and p value is: 0.8254146452272988\n",
      "Failed to reject the null hypothesis.\n"
     ]
    }
   ],
   "source": [
    "print(\"chisquare-score is:\", chi_square, \" and p value is:\", p_value)\n",
    "print(conclusion)"
   ]
  },
  {
   "cell_type": "code",
   "execution_count": 9,
   "id": "26bbde36-e650-4110-8cd2-1a746f42b17a",
   "metadata": {},
   "outputs": [
    {
     "name": "stdout",
     "output_type": "stream",
     "text": [
      "the odds ratio is:  1.026547300701469\n"
     ]
    }
   ],
   "source": [
    "odra = (616/1098)/(188/344)\n",
    "print(\"the odds ratio is: \",odra)"
   ]
  },
  {
   "cell_type": "markdown",
   "id": "074a10bb-ed85-401b-883a-38abed73c8d0",
   "metadata": {},
   "source": [
    "All of this is to say, there is not a statistically significant association between marital status and college education background. This is confirmed both by the chisquare test, which yields a p-value well above the significance threshold of 0.05, as well as by the odds ratio, which is almost exactly one."
   ]
  }
 ],
 "metadata": {
  "kernelspec": {
   "display_name": "Python 3 (ipykernel)",
   "language": "python",
   "name": "python3"
  },
  "language_info": {
   "codemirror_mode": {
    "name": "ipython",
    "version": 3
   },
   "file_extension": ".py",
   "mimetype": "text/x-python",
   "name": "python",
   "nbconvert_exporter": "python",
   "pygments_lexer": "ipython3",
   "version": "3.9.6"
  }
 },
 "nbformat": 4,
 "nbformat_minor": 5
}
