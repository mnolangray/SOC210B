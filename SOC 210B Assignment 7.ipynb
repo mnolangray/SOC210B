{
 "cells": [
  {
   "cell_type": "markdown",
   "id": "7444b044-de44-49a8-8524-4bbb3451f07e",
   "metadata": {},
   "source": [
    "# SOC 210B Assignment 7\n",
    "_By M. Nolan Gray_"
   ]
  },
  {
   "cell_type": "code",
   "execution_count": 22,
   "id": "204f17fc-49ae-4a86-94cb-357af7aeb79c",
   "metadata": {},
   "outputs": [],
   "source": [
    "import statsmodels.api as sm\n",
    "import pandas as pd\n",
    "from statsmodels.formula.api import logit"
   ]
  },
  {
   "cell_type": "code",
   "execution_count": 16,
   "id": "788b4165-c847-4270-89e9-474a105c7c27",
   "metadata": {},
   "outputs": [
    {
     "data": {
      "text/html": [
       "<div>\n",
       "<style scoped>\n",
       "    .dataframe tbody tr th:only-of-type {\n",
       "        vertical-align: middle;\n",
       "    }\n",
       "\n",
       "    .dataframe tbody tr th {\n",
       "        vertical-align: top;\n",
       "    }\n",
       "\n",
       "    .dataframe thead th {\n",
       "        text-align: right;\n",
       "    }\n",
       "</style>\n",
       "<table border=\"1\" class=\"dataframe\">\n",
       "  <thead>\n",
       "    <tr style=\"text-align: right;\">\n",
       "      <th></th>\n",
       "      <th>idcode</th>\n",
       "      <th>age</th>\n",
       "      <th>race</th>\n",
       "      <th>married</th>\n",
       "      <th>never_married</th>\n",
       "      <th>grade</th>\n",
       "      <th>collgrad</th>\n",
       "      <th>south</th>\n",
       "      <th>smsa</th>\n",
       "      <th>c_city</th>\n",
       "      <th>industry</th>\n",
       "      <th>occupation</th>\n",
       "      <th>union</th>\n",
       "      <th>wage</th>\n",
       "      <th>hours</th>\n",
       "      <th>ttl_exp</th>\n",
       "      <th>tenure</th>\n",
       "      <th>occ4</th>\n",
       "    </tr>\n",
       "  </thead>\n",
       "  <tbody>\n",
       "    <tr>\n",
       "      <th>43</th>\n",
       "      <td>86</td>\n",
       "      <td>44</td>\n",
       "      <td>white</td>\n",
       "      <td>single</td>\n",
       "      <td>1</td>\n",
       "      <td>17.0</td>\n",
       "      <td>college grad</td>\n",
       "      <td>0</td>\n",
       "      <td>SMSA</td>\n",
       "      <td>0</td>\n",
       "      <td>Entertainment/Rec Svc</td>\n",
       "      <td>Laborers</td>\n",
       "      <td>union</td>\n",
       "      <td>13.172291</td>\n",
       "      <td>44.0</td>\n",
       "      <td>16.269230</td>\n",
       "      <td>1.250000</td>\n",
       "      <td>lower manual</td>\n",
       "    </tr>\n",
       "    <tr>\n",
       "      <th>170</th>\n",
       "      <td>403</td>\n",
       "      <td>40</td>\n",
       "      <td>white</td>\n",
       "      <td>single</td>\n",
       "      <td>1</td>\n",
       "      <td>12.0</td>\n",
       "      <td>not college grad</td>\n",
       "      <td>0</td>\n",
       "      <td>SMSA</td>\n",
       "      <td>0</td>\n",
       "      <td>Public Administration</td>\n",
       "      <td>Sales</td>\n",
       "      <td>nonunion</td>\n",
       "      <td>5.732688</td>\n",
       "      <td>40.0</td>\n",
       "      <td>10.500000</td>\n",
       "      <td>10.500000</td>\n",
       "      <td>lower nonmanual</td>\n",
       "    </tr>\n",
       "    <tr>\n",
       "      <th>907</th>\n",
       "      <td>2140</td>\n",
       "      <td>41</td>\n",
       "      <td>white</td>\n",
       "      <td>single</td>\n",
       "      <td>0</td>\n",
       "      <td>12.0</td>\n",
       "      <td>not college grad</td>\n",
       "      <td>0</td>\n",
       "      <td>nonSMSA</td>\n",
       "      <td>0</td>\n",
       "      <td>Wholesale/Retail Trade</td>\n",
       "      <td>Sales</td>\n",
       "      <td>union</td>\n",
       "      <td>8.067631</td>\n",
       "      <td>48.0</td>\n",
       "      <td>16.076923</td>\n",
       "      <td>0.000000</td>\n",
       "      <td>lower nonmanual</td>\n",
       "    </tr>\n",
       "    <tr>\n",
       "      <th>421</th>\n",
       "      <td>999</td>\n",
       "      <td>40</td>\n",
       "      <td>white</td>\n",
       "      <td>single</td>\n",
       "      <td>0</td>\n",
       "      <td>10.0</td>\n",
       "      <td>not college grad</td>\n",
       "      <td>0</td>\n",
       "      <td>nonSMSA</td>\n",
       "      <td>0</td>\n",
       "      <td>Personal Services</td>\n",
       "      <td>Transport</td>\n",
       "      <td>nonunion</td>\n",
       "      <td>6.038648</td>\n",
       "      <td>35.0</td>\n",
       "      <td>6.839744</td>\n",
       "      <td>2.666667</td>\n",
       "      <td>upper manual</td>\n",
       "    </tr>\n",
       "    <tr>\n",
       "      <th>1991</th>\n",
       "      <td>4578</td>\n",
       "      <td>41</td>\n",
       "      <td>white</td>\n",
       "      <td>married</td>\n",
       "      <td>0</td>\n",
       "      <td>16.0</td>\n",
       "      <td>college grad</td>\n",
       "      <td>1</td>\n",
       "      <td>nonSMSA</td>\n",
       "      <td>0</td>\n",
       "      <td>Professional Services</td>\n",
       "      <td>Other</td>\n",
       "      <td>NaN</td>\n",
       "      <td>3.873905</td>\n",
       "      <td>24.0</td>\n",
       "      <td>10.250000</td>\n",
       "      <td>1.500000</td>\n",
       "      <td>other</td>\n",
       "    </tr>\n",
       "  </tbody>\n",
       "</table>\n",
       "</div>"
      ],
      "text/plain": [
       "      idcode  age   race  married  never_married  grade          collgrad  \\\n",
       "43        86   44  white   single              1   17.0      college grad   \n",
       "170      403   40  white   single              1   12.0  not college grad   \n",
       "907     2140   41  white   single              0   12.0  not college grad   \n",
       "421      999   40  white   single              0   10.0  not college grad   \n",
       "1991    4578   41  white  married              0   16.0      college grad   \n",
       "\n",
       "      south     smsa  c_city                industry occupation     union  \\\n",
       "43        0     SMSA       0   Entertainment/Rec Svc   Laborers     union   \n",
       "170       0     SMSA       0   Public Administration      Sales  nonunion   \n",
       "907       0  nonSMSA       0  Wholesale/Retail Trade      Sales     union   \n",
       "421       0  nonSMSA       0       Personal Services  Transport  nonunion   \n",
       "1991      1  nonSMSA       0   Professional Services      Other       NaN   \n",
       "\n",
       "           wage  hours    ttl_exp     tenure             occ4  \n",
       "43    13.172291   44.0  16.269230   1.250000     lower manual  \n",
       "170    5.732688   40.0  10.500000  10.500000  lower nonmanual  \n",
       "907    8.067631   48.0  16.076923   0.000000  lower nonmanual  \n",
       "421    6.038648   35.0   6.839744   2.666667     upper manual  \n",
       "1991   3.873905   24.0  10.250000   1.500000            other  "
      ]
     },
     "execution_count": 16,
     "metadata": {},
     "output_type": "execute_result"
    }
   ],
   "source": [
    "dtafile = './Data/nlsw88_occ4.dta'\n",
    "df = pd.read_stata(dtafile)\n",
    "df.sample(5)"
   ]
  },
  {
   "cell_type": "code",
   "execution_count": 30,
   "id": "ae295119-ec4e-4862-9acd-89f0a7e1cadb",
   "metadata": {},
   "outputs": [
    {
     "name": "stdout",
     "output_type": "stream",
     "text": [
      "<class 'pandas.core.frame.DataFrame'>\n",
      "Int64Index: 2246 entries, 0 to 2245\n",
      "Data columns (total 18 columns):\n",
      " #   Column         Non-Null Count  Dtype   \n",
      "---  ------         --------------  -----   \n",
      " 0   idcode         2246 non-null   int16   \n",
      " 1   age            2246 non-null   int8    \n",
      " 2   race           2246 non-null   category\n",
      " 3   married        2246 non-null   category\n",
      " 4   never_married  2246 non-null   int8    \n",
      " 5   grade          2244 non-null   float64 \n",
      " 6   collgrad       2246 non-null   category\n",
      " 7   south          2246 non-null   int8    \n",
      " 8   smsa           2246 non-null   category\n",
      " 9   c_city         2246 non-null   int8    \n",
      " 10  industry       2232 non-null   category\n",
      " 11  occupation     2237 non-null   category\n",
      " 12  union          1878 non-null   category\n",
      " 13  wage           2246 non-null   float32 \n",
      " 14  hours          2242 non-null   float64 \n",
      " 15  ttl_exp        2246 non-null   float32 \n",
      " 16  tenure         2231 non-null   float32 \n",
      " 17  occ4           2237 non-null   category\n",
      "dtypes: category(8), float32(3), float64(2), int16(1), int8(4)\n",
      "memory usage: 111.5 KB\n"
     ]
    }
   ],
   "source": [
    "df.info()"
   ]
  },
  {
   "cell_type": "markdown",
   "id": "5d549011-fccb-4504-a820-cf5398fc62b4",
   "metadata": {},
   "source": [
    "## Question 1"
   ]
  },
  {
   "cell_type": "code",
   "execution_count": 18,
   "id": "4429ec11-f342-4258-a8ac-d67d18894296",
   "metadata": {},
   "outputs": [
    {
     "name": "stdout",
     "output_type": "stream",
     "text": [
      "Optimization terminated successfully.\n",
      "         Current function value: 0.319399\n",
      "         Iterations 7\n"
     ]
    }
   ],
   "source": [
    "formula = ('never_married ~ collgrad + race')\n",
    "model = logit(formula = formula, data = df).fit()"
   ]
  },
  {
   "cell_type": "code",
   "execution_count": 19,
   "id": "a2416eda-2b5b-4327-a3a1-512e2da49d60",
   "metadata": {},
   "outputs": [
    {
     "data": {
      "text/html": [
       "<table class=\"simpletable\">\n",
       "<caption>Logit Regression Results</caption>\n",
       "<tr>\n",
       "  <th>Dep. Variable:</th>     <td>never_married</td>  <th>  No. Observations:  </th>  <td>  2246</td>  \n",
       "</tr>\n",
       "<tr>\n",
       "  <th>Model:</th>                 <td>Logit</td>      <th>  Df Residuals:      </th>  <td>  2242</td>  \n",
       "</tr>\n",
       "<tr>\n",
       "  <th>Method:</th>                 <td>MLE</td>       <th>  Df Model:          </th>  <td>     3</td>  \n",
       "</tr>\n",
       "<tr>\n",
       "  <th>Date:</th>            <td>Fri, 04 Mar 2022</td> <th>  Pseudo R-squ.:     </th>  <td>0.04424</td> \n",
       "</tr>\n",
       "<tr>\n",
       "  <th>Time:</th>                <td>08:01:22</td>     <th>  Log-Likelihood:    </th> <td> -717.37</td> \n",
       "</tr>\n",
       "<tr>\n",
       "  <th>converged:</th>             <td>True</td>       <th>  LL-Null:           </th> <td> -750.57</td> \n",
       "</tr>\n",
       "<tr>\n",
       "  <th>Covariance Type:</th>     <td>nonrobust</td>    <th>  LLR p-value:       </th> <td>2.506e-14</td>\n",
       "</tr>\n",
       "</table>\n",
       "<table class=\"simpletable\">\n",
       "<tr>\n",
       "              <td></td>                <th>coef</th>     <th>std err</th>      <th>z</th>      <th>P>|z|</th>  <th>[0.025</th>    <th>0.975]</th>  \n",
       "</tr>\n",
       "<tr>\n",
       "  <th>Intercept</th>                <td>   -2.7171</td> <td>    0.110</td> <td>  -24.710</td> <td> 0.000</td> <td>   -2.933</td> <td>   -2.502</td>\n",
       "</tr>\n",
       "<tr>\n",
       "  <th>collgrad[T.college grad]</th> <td>    0.7287</td> <td>    0.151</td> <td>    4.815</td> <td> 0.000</td> <td>    0.432</td> <td>    1.025</td>\n",
       "</tr>\n",
       "<tr>\n",
       "  <th>race[T.black]</th>            <td>    1.0477</td> <td>    0.145</td> <td>    7.243</td> <td> 0.000</td> <td>    0.764</td> <td>    1.331</td>\n",
       "</tr>\n",
       "<tr>\n",
       "  <th>race[T.other]</th>            <td>    0.3804</td> <td>    0.625</td> <td>    0.608</td> <td> 0.543</td> <td>   -0.845</td> <td>    1.606</td>\n",
       "</tr>\n",
       "</table>"
      ],
      "text/plain": [
       "<class 'statsmodels.iolib.summary.Summary'>\n",
       "\"\"\"\n",
       "                           Logit Regression Results                           \n",
       "==============================================================================\n",
       "Dep. Variable:          never_married   No. Observations:                 2246\n",
       "Model:                          Logit   Df Residuals:                     2242\n",
       "Method:                           MLE   Df Model:                            3\n",
       "Date:                Fri, 04 Mar 2022   Pseudo R-squ.:                 0.04424\n",
       "Time:                        08:01:22   Log-Likelihood:                -717.37\n",
       "converged:                       True   LL-Null:                       -750.57\n",
       "Covariance Type:            nonrobust   LLR p-value:                 2.506e-14\n",
       "============================================================================================\n",
       "                               coef    std err          z      P>|z|      [0.025      0.975]\n",
       "--------------------------------------------------------------------------------------------\n",
       "Intercept                   -2.7171      0.110    -24.710      0.000      -2.933      -2.502\n",
       "collgrad[T.college grad]     0.7287      0.151      4.815      0.000       0.432       1.025\n",
       "race[T.black]                1.0477      0.145      7.243      0.000       0.764       1.331\n",
       "race[T.other]                0.3804      0.625      0.608      0.543      -0.845       1.606\n",
       "============================================================================================\n",
       "\"\"\""
      ]
     },
     "execution_count": 19,
     "metadata": {},
     "output_type": "execute_result"
    }
   ],
   "source": [
    "model.summary()"
   ]
  },
  {
   "cell_type": "markdown",
   "id": "f7e06110-10ce-4639-91f2-fe04dcae569b",
   "metadata": {},
   "source": [
    "Our log-odds formula is this: -2.72 + 0.73(college) + 1.05(black). I have left out race:other as it is not statistically significant. The default is a white woman with no college degree.\n",
    "\n",
    "A white woman with a college degree:\n",
    "* Log-odds: -1.99 (-2.72 + 0.73)\n",
    "* Odds: 0.14 (e^-1.99/(1+e^-1.99)) \n",
    "* Probability: 0.12 (0.14/(1+0.14))\n",
    "\n",
    "A black woman with a college degree:\n",
    "* Log-odds: -0.94 (-2.72 + 0.73 + 1.05)\n",
    "* Odds: 0.39 (e^-0.94/(1+e^-0.94))\n",
    "* Probability: 0.28 (0.39/(1+0.39))"
   ]
  },
  {
   "cell_type": "markdown",
   "id": "49e4967e-bf44-47a0-bba2-766dc8d15020",
   "metadata": {},
   "source": [
    "## Question 2"
   ]
  },
  {
   "cell_type": "code",
   "execution_count": 53,
   "id": "35435e19-04a6-4e57-8483-39f01da02a96",
   "metadata": {},
   "outputs": [],
   "source": [
    "from statsmodels.formula.api import mnlogit\n",
    "import statsmodels.formula.api as smf"
   ]
  }
 ],
 "metadata": {
  "kernelspec": {
   "display_name": "Python 3 (ipykernel)",
   "language": "python",
   "name": "python3"
  },
  "language_info": {
   "codemirror_mode": {
    "name": "ipython",
    "version": 3
   },
   "file_extension": ".py",
   "mimetype": "text/x-python",
   "name": "python",
   "nbconvert_exporter": "python",
   "pygments_lexer": "ipython3",
   "version": "3.9.6"
  }
 },
 "nbformat": 4,
 "nbformat_minor": 5
}
