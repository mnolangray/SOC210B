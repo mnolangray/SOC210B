{
 "cells": [
  {
   "cell_type": "markdown",
   "id": "7444b044-de44-49a8-8524-4bbb3451f07e",
   "metadata": {},
   "source": [
    "# SOC 210B Assignment 7\n",
    "_By M. Nolan Gray_"
   ]
  },
  {
   "cell_type": "code",
   "execution_count": 75,
   "id": "204f17fc-49ae-4a86-94cb-357af7aeb79c",
   "metadata": {},
   "outputs": [],
   "source": [
    "import statsmodels.api as sm\n",
    "import pandas as pd\n",
    "from statsmodels.formula.api import logit\n",
    "import numpy as np"
   ]
  },
  {
   "cell_type": "code",
   "execution_count": 85,
   "id": "788b4165-c847-4270-89e9-474a105c7c27",
   "metadata": {},
   "outputs": [
    {
     "data": {
      "text/html": [
       "<div>\n",
       "<style scoped>\n",
       "    .dataframe tbody tr th:only-of-type {\n",
       "        vertical-align: middle;\n",
       "    }\n",
       "\n",
       "    .dataframe tbody tr th {\n",
       "        vertical-align: top;\n",
       "    }\n",
       "\n",
       "    .dataframe thead th {\n",
       "        text-align: right;\n",
       "    }\n",
       "</style>\n",
       "<table border=\"1\" class=\"dataframe\">\n",
       "  <thead>\n",
       "    <tr style=\"text-align: right;\">\n",
       "      <th></th>\n",
       "      <th>idcode</th>\n",
       "      <th>age</th>\n",
       "      <th>race</th>\n",
       "      <th>married</th>\n",
       "      <th>never_married</th>\n",
       "      <th>grade</th>\n",
       "      <th>collgrad</th>\n",
       "      <th>south</th>\n",
       "      <th>smsa</th>\n",
       "      <th>c_city</th>\n",
       "      <th>industry</th>\n",
       "      <th>occupation</th>\n",
       "      <th>union</th>\n",
       "      <th>wage</th>\n",
       "      <th>hours</th>\n",
       "      <th>ttl_exp</th>\n",
       "      <th>tenure</th>\n",
       "      <th>occ4</th>\n",
       "    </tr>\n",
       "  </thead>\n",
       "  <tbody>\n",
       "    <tr>\n",
       "      <th>0</th>\n",
       "      <td>1</td>\n",
       "      <td>37</td>\n",
       "      <td>black</td>\n",
       "      <td>single</td>\n",
       "      <td>0</td>\n",
       "      <td>12.0</td>\n",
       "      <td>not college grad</td>\n",
       "      <td>0</td>\n",
       "      <td>SMSA</td>\n",
       "      <td>0</td>\n",
       "      <td>Transport/Comm/Utility</td>\n",
       "      <td>Operatives</td>\n",
       "      <td>union</td>\n",
       "      <td>11.739125</td>\n",
       "      <td>48.0</td>\n",
       "      <td>10.333334</td>\n",
       "      <td>5.333333</td>\n",
       "      <td>upper manual</td>\n",
       "    </tr>\n",
       "    <tr>\n",
       "      <th>1</th>\n",
       "      <td>2</td>\n",
       "      <td>37</td>\n",
       "      <td>black</td>\n",
       "      <td>single</td>\n",
       "      <td>0</td>\n",
       "      <td>12.0</td>\n",
       "      <td>not college grad</td>\n",
       "      <td>0</td>\n",
       "      <td>SMSA</td>\n",
       "      <td>1</td>\n",
       "      <td>Manufacturing</td>\n",
       "      <td>Craftsmen</td>\n",
       "      <td>union</td>\n",
       "      <td>6.400963</td>\n",
       "      <td>40.0</td>\n",
       "      <td>13.621795</td>\n",
       "      <td>5.250000</td>\n",
       "      <td>upper manual</td>\n",
       "    </tr>\n",
       "    <tr>\n",
       "      <th>2</th>\n",
       "      <td>3</td>\n",
       "      <td>42</td>\n",
       "      <td>black</td>\n",
       "      <td>single</td>\n",
       "      <td>1</td>\n",
       "      <td>12.0</td>\n",
       "      <td>not college grad</td>\n",
       "      <td>0</td>\n",
       "      <td>SMSA</td>\n",
       "      <td>1</td>\n",
       "      <td>Manufacturing</td>\n",
       "      <td>Sales</td>\n",
       "      <td>NaN</td>\n",
       "      <td>5.016723</td>\n",
       "      <td>40.0</td>\n",
       "      <td>17.730770</td>\n",
       "      <td>1.250000</td>\n",
       "      <td>lower nonmanual</td>\n",
       "    </tr>\n",
       "    <tr>\n",
       "      <th>3</th>\n",
       "      <td>4</td>\n",
       "      <td>43</td>\n",
       "      <td>white</td>\n",
       "      <td>married</td>\n",
       "      <td>0</td>\n",
       "      <td>17.0</td>\n",
       "      <td>college grad</td>\n",
       "      <td>0</td>\n",
       "      <td>SMSA</td>\n",
       "      <td>0</td>\n",
       "      <td>Professional Services</td>\n",
       "      <td>Other</td>\n",
       "      <td>union</td>\n",
       "      <td>9.033813</td>\n",
       "      <td>42.0</td>\n",
       "      <td>13.211537</td>\n",
       "      <td>1.750000</td>\n",
       "      <td>other</td>\n",
       "    </tr>\n",
       "    <tr>\n",
       "      <th>4</th>\n",
       "      <td>6</td>\n",
       "      <td>42</td>\n",
       "      <td>white</td>\n",
       "      <td>married</td>\n",
       "      <td>0</td>\n",
       "      <td>12.0</td>\n",
       "      <td>not college grad</td>\n",
       "      <td>0</td>\n",
       "      <td>SMSA</td>\n",
       "      <td>0</td>\n",
       "      <td>Manufacturing</td>\n",
       "      <td>Operatives</td>\n",
       "      <td>nonunion</td>\n",
       "      <td>8.083731</td>\n",
       "      <td>48.0</td>\n",
       "      <td>17.820513</td>\n",
       "      <td>17.750000</td>\n",
       "      <td>upper manual</td>\n",
       "    </tr>\n",
       "  </tbody>\n",
       "</table>\n",
       "</div>"
      ],
      "text/plain": [
       "   idcode  age   race  married  never_married  grade          collgrad  south  \\\n",
       "0       1   37  black   single              0   12.0  not college grad      0   \n",
       "1       2   37  black   single              0   12.0  not college grad      0   \n",
       "2       3   42  black   single              1   12.0  not college grad      0   \n",
       "3       4   43  white  married              0   17.0      college grad      0   \n",
       "4       6   42  white  married              0   12.0  not college grad      0   \n",
       "\n",
       "   smsa  c_city                industry  occupation     union       wage  \\\n",
       "0  SMSA       0  Transport/Comm/Utility  Operatives     union  11.739125   \n",
       "1  SMSA       1           Manufacturing   Craftsmen     union   6.400963   \n",
       "2  SMSA       1           Manufacturing       Sales       NaN   5.016723   \n",
       "3  SMSA       0   Professional Services       Other     union   9.033813   \n",
       "4  SMSA       0           Manufacturing  Operatives  nonunion   8.083731   \n",
       "\n",
       "   hours    ttl_exp     tenure             occ4  \n",
       "0   48.0  10.333334   5.333333     upper manual  \n",
       "1   40.0  13.621795   5.250000     upper manual  \n",
       "2   40.0  17.730770   1.250000  lower nonmanual  \n",
       "3   42.0  13.211537   1.750000            other  \n",
       "4   48.0  17.820513  17.750000     upper manual  "
      ]
     },
     "execution_count": 85,
     "metadata": {},
     "output_type": "execute_result"
    }
   ],
   "source": [
    "dtafile = './Data/nlsw88_occ4.dta'\n",
    "df = pd.read_stata(dtafile)\n",
    "df.head(5)"
   ]
  },
  {
   "cell_type": "code",
   "execution_count": 30,
   "id": "ae295119-ec4e-4862-9acd-89f0a7e1cadb",
   "metadata": {},
   "outputs": [
    {
     "name": "stdout",
     "output_type": "stream",
     "text": [
      "<class 'pandas.core.frame.DataFrame'>\n",
      "Int64Index: 2246 entries, 0 to 2245\n",
      "Data columns (total 18 columns):\n",
      " #   Column         Non-Null Count  Dtype   \n",
      "---  ------         --------------  -----   \n",
      " 0   idcode         2246 non-null   int16   \n",
      " 1   age            2246 non-null   int8    \n",
      " 2   race           2246 non-null   category\n",
      " 3   married        2246 non-null   category\n",
      " 4   never_married  2246 non-null   int8    \n",
      " 5   grade          2244 non-null   float64 \n",
      " 6   collgrad       2246 non-null   category\n",
      " 7   south          2246 non-null   int8    \n",
      " 8   smsa           2246 non-null   category\n",
      " 9   c_city         2246 non-null   int8    \n",
      " 10  industry       2232 non-null   category\n",
      " 11  occupation     2237 non-null   category\n",
      " 12  union          1878 non-null   category\n",
      " 13  wage           2246 non-null   float32 \n",
      " 14  hours          2242 non-null   float64 \n",
      " 15  ttl_exp        2246 non-null   float32 \n",
      " 16  tenure         2231 non-null   float32 \n",
      " 17  occ4           2237 non-null   category\n",
      "dtypes: category(8), float32(3), float64(2), int16(1), int8(4)\n",
      "memory usage: 111.5 KB\n"
     ]
    }
   ],
   "source": [
    "df.info()"
   ]
  },
  {
   "cell_type": "markdown",
   "id": "5d549011-fccb-4504-a820-cf5398fc62b4",
   "metadata": {},
   "source": [
    "## Question 1"
   ]
  },
  {
   "cell_type": "code",
   "execution_count": 18,
   "id": "4429ec11-f342-4258-a8ac-d67d18894296",
   "metadata": {},
   "outputs": [
    {
     "name": "stdout",
     "output_type": "stream",
     "text": [
      "Optimization terminated successfully.\n",
      "         Current function value: 0.319399\n",
      "         Iterations 7\n"
     ]
    }
   ],
   "source": [
    "formula = ('never_married ~ collgrad + race')\n",
    "model = logit(formula = formula, data = df).fit()"
   ]
  },
  {
   "cell_type": "code",
   "execution_count": 19,
   "id": "a2416eda-2b5b-4327-a3a1-512e2da49d60",
   "metadata": {},
   "outputs": [
    {
     "data": {
      "text/html": [
       "<table class=\"simpletable\">\n",
       "<caption>Logit Regression Results</caption>\n",
       "<tr>\n",
       "  <th>Dep. Variable:</th>     <td>never_married</td>  <th>  No. Observations:  </th>  <td>  2246</td>  \n",
       "</tr>\n",
       "<tr>\n",
       "  <th>Model:</th>                 <td>Logit</td>      <th>  Df Residuals:      </th>  <td>  2242</td>  \n",
       "</tr>\n",
       "<tr>\n",
       "  <th>Method:</th>                 <td>MLE</td>       <th>  Df Model:          </th>  <td>     3</td>  \n",
       "</tr>\n",
       "<tr>\n",
       "  <th>Date:</th>            <td>Fri, 04 Mar 2022</td> <th>  Pseudo R-squ.:     </th>  <td>0.04424</td> \n",
       "</tr>\n",
       "<tr>\n",
       "  <th>Time:</th>                <td>08:01:22</td>     <th>  Log-Likelihood:    </th> <td> -717.37</td> \n",
       "</tr>\n",
       "<tr>\n",
       "  <th>converged:</th>             <td>True</td>       <th>  LL-Null:           </th> <td> -750.57</td> \n",
       "</tr>\n",
       "<tr>\n",
       "  <th>Covariance Type:</th>     <td>nonrobust</td>    <th>  LLR p-value:       </th> <td>2.506e-14</td>\n",
       "</tr>\n",
       "</table>\n",
       "<table class=\"simpletable\">\n",
       "<tr>\n",
       "              <td></td>                <th>coef</th>     <th>std err</th>      <th>z</th>      <th>P>|z|</th>  <th>[0.025</th>    <th>0.975]</th>  \n",
       "</tr>\n",
       "<tr>\n",
       "  <th>Intercept</th>                <td>   -2.7171</td> <td>    0.110</td> <td>  -24.710</td> <td> 0.000</td> <td>   -2.933</td> <td>   -2.502</td>\n",
       "</tr>\n",
       "<tr>\n",
       "  <th>collgrad[T.college grad]</th> <td>    0.7287</td> <td>    0.151</td> <td>    4.815</td> <td> 0.000</td> <td>    0.432</td> <td>    1.025</td>\n",
       "</tr>\n",
       "<tr>\n",
       "  <th>race[T.black]</th>            <td>    1.0477</td> <td>    0.145</td> <td>    7.243</td> <td> 0.000</td> <td>    0.764</td> <td>    1.331</td>\n",
       "</tr>\n",
       "<tr>\n",
       "  <th>race[T.other]</th>            <td>    0.3804</td> <td>    0.625</td> <td>    0.608</td> <td> 0.543</td> <td>   -0.845</td> <td>    1.606</td>\n",
       "</tr>\n",
       "</table>"
      ],
      "text/plain": [
       "<class 'statsmodels.iolib.summary.Summary'>\n",
       "\"\"\"\n",
       "                           Logit Regression Results                           \n",
       "==============================================================================\n",
       "Dep. Variable:          never_married   No. Observations:                 2246\n",
       "Model:                          Logit   Df Residuals:                     2242\n",
       "Method:                           MLE   Df Model:                            3\n",
       "Date:                Fri, 04 Mar 2022   Pseudo R-squ.:                 0.04424\n",
       "Time:                        08:01:22   Log-Likelihood:                -717.37\n",
       "converged:                       True   LL-Null:                       -750.57\n",
       "Covariance Type:            nonrobust   LLR p-value:                 2.506e-14\n",
       "============================================================================================\n",
       "                               coef    std err          z      P>|z|      [0.025      0.975]\n",
       "--------------------------------------------------------------------------------------------\n",
       "Intercept                   -2.7171      0.110    -24.710      0.000      -2.933      -2.502\n",
       "collgrad[T.college grad]     0.7287      0.151      4.815      0.000       0.432       1.025\n",
       "race[T.black]                1.0477      0.145      7.243      0.000       0.764       1.331\n",
       "race[T.other]                0.3804      0.625      0.608      0.543      -0.845       1.606\n",
       "============================================================================================\n",
       "\"\"\""
      ]
     },
     "execution_count": 19,
     "metadata": {},
     "output_type": "execute_result"
    }
   ],
   "source": [
    "model.summary()"
   ]
  },
  {
   "cell_type": "markdown",
   "id": "f7e06110-10ce-4639-91f2-fe04dcae569b",
   "metadata": {},
   "source": [
    "Our log-odds formula is this: -2.72 + 0.73(college) + 1.05(black). I have left out race:other as it is not statistically significant. The default is a white woman with no college degree.\n",
    "\n",
    "A white woman with a college degree:\n",
    "* Log-odds: -1.99 (-2.72 + 0.73)\n",
    "* Odds: 0.14 (e^-1.99/(1+e^-1.99)) \n",
    "* Probability: 0.12 (0.14/(1+0.14))\n",
    "\n",
    "A black woman with a college degree:\n",
    "* Log-odds: -0.94 (-2.72 + 0.73 + 1.05)\n",
    "* Odds: 0.39 (e^-0.94/(1+e^-0.94))\n",
    "* Probability: 0.28 (0.39/(1+0.39))"
   ]
  },
  {
   "cell_type": "markdown",
   "id": "49e4967e-bf44-47a0-bba2-766dc8d15020",
   "metadata": {},
   "source": [
    "## Question 2"
   ]
  },
  {
   "cell_type": "code",
   "execution_count": 77,
   "id": "d75127d5-7a7d-4208-84c2-590789186d2a",
   "metadata": {},
   "outputs": [],
   "source": [
    "x1 = df[['collgrad','race']]\n",
    "y1 = df['occ4']"
   ]
  },
  {
   "cell_type": "code",
   "execution_count": 78,
   "id": "044af1f9-7db3-4248-a372-6559254abd1b",
   "metadata": {},
   "outputs": [],
   "source": [
    "x1 = sm.add_constant(x1, prepend = False)"
   ]
  },
  {
   "cell_type": "code",
   "execution_count": 86,
   "id": "44a4c528-16e3-4530-b2a7-86caf3d4ae28",
   "metadata": {},
   "outputs": [],
   "source": [
    "list1= ['upper nonmanual', 'lower nonmanual', 'upper manual', 'lower manual', 'other']"
   ]
  },
  {
   "cell_type": "code",
   "execution_count": 87,
   "id": "9d7d1f74-13e9-406f-bb7d-7ff8da4cec64",
   "metadata": {},
   "outputs": [
    {
     "data": {
      "text/plain": [
       "{'upper nonmanual': 0,\n",
       " 'lower nonmanual': 1,\n",
       " 'upper manual': 2,\n",
       " 'lower manual': 3,\n",
       " 'other': 4}"
      ]
     },
     "execution_count": 87,
     "metadata": {},
     "output_type": "execute_result"
    }
   ],
   "source": [
    "mapping_dict = {}\n",
    "for index, i in enumerate(list1):\n",
    "    mapping_dict[i] = index\n",
    "\n",
    "mapping_dict"
   ]
  },
  {
   "cell_type": "code",
   "execution_count": 88,
   "id": "9dde559a-26bc-4ebe-be82-6e72dc2fa66e",
   "metadata": {},
   "outputs": [],
   "source": [
    "x_dummy = pd.get_dummies(x)\n",
    "y_dummy = y.map(mapping_dict)"
   ]
  },
  {
   "cell_type": "code",
   "execution_count": 89,
   "id": "b9a4d766-70d1-47c0-b703-5ab78a3775d9",
   "metadata": {},
   "outputs": [
    {
     "data": {
      "text/html": [
       "<div>\n",
       "<style scoped>\n",
       "    .dataframe tbody tr th:only-of-type {\n",
       "        vertical-align: middle;\n",
       "    }\n",
       "\n",
       "    .dataframe tbody tr th {\n",
       "        vertical-align: top;\n",
       "    }\n",
       "\n",
       "    .dataframe thead th {\n",
       "        text-align: right;\n",
       "    }\n",
       "</style>\n",
       "<table border=\"1\" class=\"dataframe\">\n",
       "  <thead>\n",
       "    <tr style=\"text-align: right;\">\n",
       "      <th></th>\n",
       "      <th>const</th>\n",
       "      <th>collgrad_not college grad</th>\n",
       "      <th>collgrad_college grad</th>\n",
       "      <th>race_white</th>\n",
       "      <th>race_black</th>\n",
       "      <th>race_other</th>\n",
       "    </tr>\n",
       "  </thead>\n",
       "  <tbody>\n",
       "    <tr>\n",
       "      <th>0</th>\n",
       "      <td>1.0</td>\n",
       "      <td>1</td>\n",
       "      <td>0</td>\n",
       "      <td>0</td>\n",
       "      <td>1</td>\n",
       "      <td>0</td>\n",
       "    </tr>\n",
       "    <tr>\n",
       "      <th>1</th>\n",
       "      <td>1.0</td>\n",
       "      <td>1</td>\n",
       "      <td>0</td>\n",
       "      <td>0</td>\n",
       "      <td>1</td>\n",
       "      <td>0</td>\n",
       "    </tr>\n",
       "    <tr>\n",
       "      <th>2</th>\n",
       "      <td>1.0</td>\n",
       "      <td>1</td>\n",
       "      <td>0</td>\n",
       "      <td>0</td>\n",
       "      <td>1</td>\n",
       "      <td>0</td>\n",
       "    </tr>\n",
       "    <tr>\n",
       "      <th>3</th>\n",
       "      <td>1.0</td>\n",
       "      <td>0</td>\n",
       "      <td>1</td>\n",
       "      <td>1</td>\n",
       "      <td>0</td>\n",
       "      <td>0</td>\n",
       "    </tr>\n",
       "    <tr>\n",
       "      <th>4</th>\n",
       "      <td>1.0</td>\n",
       "      <td>1</td>\n",
       "      <td>0</td>\n",
       "      <td>1</td>\n",
       "      <td>0</td>\n",
       "      <td>0</td>\n",
       "    </tr>\n",
       "    <tr>\n",
       "      <th>...</th>\n",
       "      <td>...</td>\n",
       "      <td>...</td>\n",
       "      <td>...</td>\n",
       "      <td>...</td>\n",
       "      <td>...</td>\n",
       "      <td>...</td>\n",
       "    </tr>\n",
       "    <tr>\n",
       "      <th>2241</th>\n",
       "      <td>1.0</td>\n",
       "      <td>1</td>\n",
       "      <td>0</td>\n",
       "      <td>1</td>\n",
       "      <td>0</td>\n",
       "      <td>0</td>\n",
       "    </tr>\n",
       "    <tr>\n",
       "      <th>2242</th>\n",
       "      <td>1.0</td>\n",
       "      <td>0</td>\n",
       "      <td>1</td>\n",
       "      <td>1</td>\n",
       "      <td>0</td>\n",
       "      <td>0</td>\n",
       "    </tr>\n",
       "    <tr>\n",
       "      <th>2243</th>\n",
       "      <td>1.0</td>\n",
       "      <td>1</td>\n",
       "      <td>0</td>\n",
       "      <td>1</td>\n",
       "      <td>0</td>\n",
       "      <td>0</td>\n",
       "    </tr>\n",
       "    <tr>\n",
       "      <th>2244</th>\n",
       "      <td>1.0</td>\n",
       "      <td>1</td>\n",
       "      <td>0</td>\n",
       "      <td>0</td>\n",
       "      <td>1</td>\n",
       "      <td>0</td>\n",
       "    </tr>\n",
       "    <tr>\n",
       "      <th>2245</th>\n",
       "      <td>1.0</td>\n",
       "      <td>1</td>\n",
       "      <td>0</td>\n",
       "      <td>0</td>\n",
       "      <td>1</td>\n",
       "      <td>0</td>\n",
       "    </tr>\n",
       "  </tbody>\n",
       "</table>\n",
       "<p>2246 rows × 6 columns</p>\n",
       "</div>"
      ],
      "text/plain": [
       "      const  collgrad_not college grad  collgrad_college grad  race_white  \\\n",
       "0       1.0                          1                      0           0   \n",
       "1       1.0                          1                      0           0   \n",
       "2       1.0                          1                      0           0   \n",
       "3       1.0                          0                      1           1   \n",
       "4       1.0                          1                      0           1   \n",
       "...     ...                        ...                    ...         ...   \n",
       "2241    1.0                          1                      0           1   \n",
       "2242    1.0                          0                      1           1   \n",
       "2243    1.0                          1                      0           1   \n",
       "2244    1.0                          1                      0           0   \n",
       "2245    1.0                          1                      0           0   \n",
       "\n",
       "      race_black  race_other  \n",
       "0              1           0  \n",
       "1              1           0  \n",
       "2              1           0  \n",
       "3              0           0  \n",
       "4              0           0  \n",
       "...          ...         ...  \n",
       "2241           0           0  \n",
       "2242           0           0  \n",
       "2243           0           0  \n",
       "2244           1           0  \n",
       "2245           1           0  \n",
       "\n",
       "[2246 rows x 6 columns]"
      ]
     },
     "execution_count": 89,
     "metadata": {},
     "output_type": "execute_result"
    }
   ],
   "source": [
    "x_dummy"
   ]
  },
  {
   "cell_type": "code",
   "execution_count": 90,
   "id": "fec08e91-112a-4196-9abf-6fc99737d9ba",
   "metadata": {},
   "outputs": [
    {
     "data": {
      "text/plain": [
       "0       2\n",
       "1       2\n",
       "2       1\n",
       "3       4\n",
       "4       2\n",
       "       ..\n",
       "2241    3\n",
       "2242    0\n",
       "2243    1\n",
       "2244    3\n",
       "2245    1\n",
       "Name: occ4, Length: 2246, dtype: category\n",
       "Categories (5, int64): [0 < 1 < 2 < 3 < 4]"
      ]
     },
     "execution_count": 90,
     "metadata": {},
     "output_type": "execute_result"
    }
   ],
   "source": [
    "y_dummy"
   ]
  },
  {
   "cell_type": "code",
   "execution_count": 105,
   "id": "d46e7913-5597-488c-ad52-f3c0aaf71632",
   "metadata": {},
   "outputs": [
    {
     "name": "stdout",
     "output_type": "stream",
     "text": [
      "Warning: Maximum number of iterations has been exceeded.\n",
      "         Current function value: 1.292898\n",
      "         Iterations: 35\n"
     ]
    },
    {
     "name": "stderr",
     "output_type": "stream",
     "text": [
      "/opt/conda/lib/python3.9/site-packages/statsmodels/base/model.py:566: ConvergenceWarning: Maximum Likelihood optimization failed to converge. Check mle_retvals\n",
      "  warnings.warn(\"Maximum Likelihood optimization failed to \"\n"
     ]
    },
    {
     "name": "stdout",
     "output_type": "stream",
     "text": [
      "                          MNLogit Regression Results                          \n",
      "==============================================================================\n",
      "Dep. Variable:                   occ4   No. Observations:                 2246\n",
      "Model:                        MNLogit   Df Residuals:                     2226\n",
      "Method:                           MLE   Df Model:                           16\n",
      "Date:                Fri, 04 Mar 2022   Pseudo R-squ.:                  0.1274\n",
      "Time:                        20:44:59   Log-Likelihood:                -2903.8\n",
      "converged:                      False   LL-Null:                       -3327.7\n",
      "Covariance Type:            nonrobust   LLR p-value:                4.107e-170\n",
      "=============================================================================================\n",
      "                   occ4=1       coef    std err          z      P>|z|      [0.025      0.975]\n",
      "---------------------------------------------------------------------------------------------\n",
      "const                        -0.0306   1.57e+06  -1.94e-08      1.000   -3.08e+06    3.08e+06\n",
      "collgrad_not college grad     0.7161        nan        nan        nan         nan         nan\n",
      "collgrad_college grad        -0.7467        nan        nan        nan         nan         nan\n",
      "race_white                   -0.0682   3.55e+05  -1.92e-07      1.000   -6.96e+05    6.96e+05\n",
      "race_black                    0.3280   3.55e+05   9.23e-07      1.000   -6.96e+05    6.96e+05\n",
      "race_other                   -0.2903   3.55e+05  -8.17e-07      1.000   -6.96e+05    6.96e+05\n",
      "---------------------------------------------------------------------------------------------\n",
      "                   occ4=2       coef    std err          z      P>|z|      [0.025      0.975]\n",
      "---------------------------------------------------------------------------------------------\n",
      "const                        -0.8390   3.53e+06  -2.38e-07      1.000   -6.92e+06    6.92e+06\n",
      "collgrad_not college grad     1.1159   3.52e+06   3.17e-07      1.000   -6.91e+06    6.91e+06\n",
      "collgrad_college grad        -1.9550   3.52e+06  -5.55e-07      1.000   -6.91e+06    6.91e+06\n",
      "race_white                   -0.8700   9.82e+05  -8.86e-07      1.000   -1.92e+06    1.92e+06\n",
      "race_black                    0.6625   9.82e+05   6.75e-07      1.000   -1.92e+06    1.92e+06\n",
      "race_other                   -0.6315   9.82e+05  -6.43e-07      1.000   -1.92e+06    1.92e+06\n",
      "---------------------------------------------------------------------------------------------\n",
      "                   occ4=3       coef    std err          z      P>|z|      [0.025      0.975]\n",
      "---------------------------------------------------------------------------------------------\n",
      "const                        -0.5565   1.62e+06  -3.44e-07      1.000   -3.17e+06    3.17e+06\n",
      "collgrad_not college grad     0.8001   5.94e+05   1.35e-06      1.000   -1.16e+06    1.16e+06\n",
      "collgrad_college grad        -1.3566   5.94e+05  -2.29e-06      1.000   -1.16e+06    1.16e+06\n",
      "race_white                   -0.7568        nan        nan        nan         nan         nan\n",
      "race_black                    0.3805        nan        nan        nan         nan         nan\n",
      "race_other                   -0.1802        nan        nan        nan         nan         nan\n",
      "---------------------------------------------------------------------------------------------\n",
      "                   occ4=4       coef    std err          z      P>|z|      [0.025      0.975]\n",
      "---------------------------------------------------------------------------------------------\n",
      "const                        -5.8335   2.76e+06  -2.11e-06      1.000   -5.41e+06    5.41e+06\n",
      "collgrad_not college grad    -4.3461   2.03e+06  -2.14e-06      1.000   -3.98e+06    3.98e+06\n",
      "collgrad_college grad        -1.4874   2.03e+06  -7.32e-07      1.000   -3.98e+06    3.98e+06\n",
      "race_white                    6.9908   4.02e+06   1.74e-06      1.000   -7.89e+06    7.89e+06\n",
      "race_black                    7.3961   4.02e+06   1.84e-06      1.000   -7.89e+06    7.89e+06\n",
      "race_other                  -20.2205   4.04e+06     -5e-06      1.000   -7.92e+06    7.92e+06\n",
      "=============================================================================================\n"
     ]
    },
    {
     "name": "stderr",
     "output_type": "stream",
     "text": [
      "/opt/conda/lib/python3.9/site-packages/statsmodels/discrete/discrete_model.py:4236: RuntimeWarning: invalid value encountered in sqrt\n",
      "  bse = np.sqrt(np.diag(self.cov_params()))\n"
     ]
    }
   ],
   "source": [
    "# can't figure out how to specify reference cell as 1!\n",
    "mnlogit_mod = sm.MNLogit(y_dummy, x_dummy)\n",
    "mnlogit_fit = mnlogit_mod.fit()\n",
    "\n",
    "print(mnlogit_fit.summary())"
   ]
  },
  {
   "cell_type": "markdown",
   "id": "52f13c4b-493f-4a16-947b-c43569b7a99c",
   "metadata": {},
   "source": [
    "A black college grade has an upper nonmanual job relative to a lower nonmanual job:\n",
    "\n",
    "* Log-odds: * (*)\n",
    "* Odds: * (e^*/(1+e^*))\n",
    "* Probability: * (*/(1+*))\n",
    "\n",
    "A black woman with a college degree has a lower manual job relative to a lower nonmanual job:\n",
    "\n",
    "* Log-odds: * (*)\n",
    "* Odds: * (e^*/(1+e^*))\n",
    "* Probability: (*/(1+*))"
   ]
  },
  {
   "cell_type": "code",
   "execution_count": null,
   "id": "e141140c-50a7-4d9a-bdec-1812343eab13",
   "metadata": {},
   "outputs": [],
   "source": []
  }
 ],
 "metadata": {
  "kernelspec": {
   "display_name": "Python 3 (ipykernel)",
   "language": "python",
   "name": "python3"
  },
  "language_info": {
   "codemirror_mode": {
    "name": "ipython",
    "version": 3
   },
   "file_extension": ".py",
   "mimetype": "text/x-python",
   "name": "python",
   "nbconvert_exporter": "python",
   "pygments_lexer": "ipython3",
   "version": "3.9.6"
  }
 },
 "nbformat": 4,
 "nbformat_minor": 5
}
